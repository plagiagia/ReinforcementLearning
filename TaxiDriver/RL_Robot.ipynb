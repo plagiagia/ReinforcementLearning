{
  "nbformat": 4,
  "nbformat_minor": 0,
  "metadata": {
    "colab": {
      "provenance": [],
      "machine_shape": "hm",
      "mount_file_id": "1hwoCiaqWjPbWz5iF5zoGI0blRp3qL3kr",
      "authorship_tag": "ABX9TyPbA52a7Tua2ACi/TKLAU3Q",
      "include_colab_link": true
    },
    "kernelspec": {
      "name": "python3",
      "display_name": "Python 3"
    },
    "language_info": {
      "name": "python"
    }
  },
  "cells": [
    {
      "cell_type": "markdown",
      "metadata": {
        "id": "view-in-github",
        "colab_type": "text"
      },
      "source": [
        "<a href=\"https://colab.research.google.com/github/plagiagia/ReinforcementLearning/blob/main/TaxiDriver/RL_Robot.ipynb\" target=\"_parent\"><img src=\"https://colab.research.google.com/assets/colab-badge.svg\" alt=\"Open In Colab\"/></a>"
      ]
    },
    {
      "cell_type": "markdown",
      "source": [
        "# Reinforcement learning live project"
      ],
      "metadata": {
        "id": "_bsOAszfcYzB"
      }
    },
    {
      "cell_type": "markdown",
      "source": [
        "In this liveProject, we will take on the role of an artificial intelligence engineer at Okanogan, a fictional online retail company. Okanogan has several warehouses in which products need to be moved throughout the day for storage and delivery.\n",
        "\n",
        "In order to boost efficiency and create a better work environment for its employees, Okanogan has decided to invest in automation solutions for item placement and retrieval. The project manager for this initiative has decided that autonomous robotic carts are the best option and is looking to evaluate various control schemes. The first two requirements for this project have been provided as follows:\n",
        "\n",
        "1. Given an item and a target location in the warehouse, the robot must be able to navigate to that location and deposit the item.\n",
        "2. The robot must not bump or crash into any of the item shelves.\n",
        "\n",
        "Our job will be to investigate whether a reinforcement learning (RL) approach could be a viable option to satisfy these requirements.\n",
        "\n",
        "Adopting a stepwise approach, we will proceed as follows:\n",
        "\n",
        "- Understand what constitutes an RL problem.\n",
        "- Approach the first requirement with tabular Q-learning.\n",
        "- Begin working on the second requirement by leveraging neural networks.\n",
        "- Finish the second requirement using the deep Q-network model.\n",
        "- Create our own simulation environment for a custom RL problem.\n",
        "\n",
        "*This live project is a quided graded project from Manning Publications, here is the [link](https://www.manning.com/liveproject/deep-reinforcement-learning-for-self-driving-robots)*"
      ],
      "metadata": {
        "id": "Ro7Ekb_ecfDn"
      }
    },
    {
      "cell_type": "markdown",
      "source": [
        "# Step 1: Addressing a Reinforcement Learning Problem"
      ],
      "metadata": {
        "id": "Y_FJY9q7ePNe"
      }
    },
    {
      "cell_type": "markdown",
      "source": [
        "## Objectives\n",
        "\n",
        "- Understand the key components of a reinforcement learning solution.\n",
        "- Recognize what problems can be solved with reinforcement learning.\n",
        "- Interact with a reinforcement learning environment."
      ],
      "metadata": {
        "id": "W_fdFFKlehpe"
      }
    },
    {
      "cell_type": "markdown",
      "source": [
        "## Workflow"
      ],
      "metadata": {
        "id": "mhXMsHKZevEU"
      }
    },
    {
      "cell_type": "markdown",
      "source": [
        "### Install the gym library"
      ],
      "metadata": {
        "id": "VVFpBjO2e4ZQ"
      }
    },
    {
      "cell_type": "code",
      "execution_count": 1,
      "metadata": {
        "colab": {
          "base_uri": "https://localhost:8080/"
        },
        "id": "D45lvhtTbyuI",
        "outputId": "5da2d7db-1d71-4654-df72-f64af711ad58"
      },
      "outputs": [
        {
          "output_type": "stream",
          "name": "stdout",
          "text": [
            "Requirement already satisfied: gym in /usr/local/lib/python3.10/dist-packages (0.25.2)\n",
            "Requirement already satisfied: numpy>=1.18.0 in /usr/local/lib/python3.10/dist-packages (from gym) (1.23.5)\n",
            "Requirement already satisfied: cloudpickle>=1.2.0 in /usr/local/lib/python3.10/dist-packages (from gym) (2.2.1)\n",
            "Requirement already satisfied: gym-notices>=0.0.4 in /usr/local/lib/python3.10/dist-packages (from gym) (0.0.8)\n"
          ]
        }
      ],
      "source": [
        "!pip install gym"
      ]
    },
    {
      "cell_type": "markdown",
      "source": [
        "### Create an instance of the Taxi-v3 environment and render it."
      ],
      "metadata": {
        "id": "7PPe2fpzfxrV"
      }
    },
    {
      "cell_type": "code",
      "source": [
        "import gym\n",
        "from gym import logger as gymlogger\n",
        "import matplotlib.pyplot as plt"
      ],
      "metadata": {
        "id": "lflKDYvgvBzy"
      },
      "execution_count": 1,
      "outputs": []
    },
    {
      "cell_type": "code",
      "source": [
        "print(gym.__version__)"
      ],
      "metadata": {
        "colab": {
          "base_uri": "https://localhost:8080/"
        },
        "id": "YrO5ieQ1fE57",
        "outputId": "47ae1bf5-0221-4783-be4c-0f849afae45a"
      },
      "execution_count": 2,
      "outputs": [
        {
          "output_type": "stream",
          "name": "stdout",
          "text": [
            "0.25.2\n"
          ]
        },
        {
          "output_type": "stream",
          "name": "stderr",
          "text": [
            "/usr/local/lib/python3.10/dist-packages/ipykernel/ipkernel.py:283: DeprecationWarning: `should_run_async` will not call `transform_cell` automatically in the future. Please pass the result to `transformed_cell` argument and any exception that happen during thetransform in `preprocessing_exc_tuple` in IPython 7.17 and above.\n",
            "  and should_run_async(code)\n"
          ]
        }
      ]
    },
    {
      "cell_type": "code",
      "source": [
        "# Let gym only report error messeges\n",
        "gymlogger.set_level(40)"
      ],
      "metadata": {
        "id": "qb6gveg5vAWH"
      },
      "execution_count": 3,
      "outputs": []
    },
    {
      "cell_type": "code",
      "source": [
        "env = gym.make('Taxi-v3', new_step_api=True) # Create the env\n",
        "env = gym.wrappers.RecordVideo(env, './taxi_driver_Q_Learning_final', episode_trigger=lambda x: x%100000==0)  # Record video of the env"
      ],
      "metadata": {
        "id": "FbBGW6AEfDXj"
      },
      "execution_count": 4,
      "outputs": []
    },
    {
      "cell_type": "markdown",
      "source": [
        "### Print the observation and action space specs of the environment."
      ],
      "metadata": {
        "id": "LBDJtwKa5Mwd"
      }
    },
    {
      "cell_type": "code",
      "source": [
        "env.observation_space"
      ],
      "metadata": {
        "colab": {
          "base_uri": "https://localhost:8080/"
        },
        "id": "AMWgxfeu5P7x",
        "outputId": "617f5bce-f26b-4865-a887-f6cdd881de28"
      },
      "execution_count": 5,
      "outputs": [
        {
          "output_type": "execute_result",
          "data": {
            "text/plain": [
              "Discrete(500)"
            ]
          },
          "metadata": {},
          "execution_count": 5
        }
      ]
    },
    {
      "cell_type": "code",
      "source": [
        "env.action_space"
      ],
      "metadata": {
        "colab": {
          "base_uri": "https://localhost:8080/"
        },
        "id": "evyDeOol5U32",
        "outputId": "ec81fab5-3ebe-4cee-a42e-a086b5179eba"
      },
      "execution_count": 6,
      "outputs": [
        {
          "output_type": "execute_result",
          "data": {
            "text/plain": [
              "Discrete(6)"
            ]
          },
          "metadata": {},
          "execution_count": 6
        }
      ]
    },
    {
      "cell_type": "markdown",
      "source": [
        "### Implement the action-observation loop with a random agent\n",
        "\n",
        "Collect the rewards at each time step and plot the agent’s cumulative reward over one episode. Run the random agent over 10 episodes and plot the average performance over time."
      ],
      "metadata": {
        "id": "-1rUNGOxgUJD"
      }
    },
    {
      "cell_type": "code",
      "source": [
        "rewards_table = []\n",
        "for _ in range(10):\n",
        "    observation = env.reset()\n",
        "    done = False\n",
        "    total_reward = 0\n",
        "    while not done:\n",
        "        action = env.action_space.sample()\n",
        "        observation, reward, done, info = env.step(action)\n",
        "        total_reward += reward\n",
        "    rewards_table.append(total_reward)"
      ],
      "metadata": {
        "id": "9SXMAr5XgfR6"
      },
      "execution_count": 7,
      "outputs": []
    },
    {
      "cell_type": "code",
      "source": [
        "rewards_table"
      ],
      "metadata": {
        "colab": {
          "base_uri": "https://localhost:8080/"
        },
        "id": "L0GPcE4-7po3",
        "outputId": "cadeef24-98fd-4266-ded7-501fd45bfa2c"
      },
      "execution_count": 8,
      "outputs": [
        {
          "output_type": "stream",
          "name": "stderr",
          "text": [
            "/usr/local/lib/python3.10/dist-packages/ipykernel/ipkernel.py:283: DeprecationWarning: `should_run_async` will not call `transform_cell` automatically in the future. Please pass the result to `transformed_cell` argument and any exception that happen during thetransform in `preprocessing_exc_tuple` in IPython 7.17 and above.\n",
            "  and should_run_async(code)\n"
          ]
        },
        {
          "output_type": "execute_result",
          "data": {
            "text/plain": [
              "[-812, -848, -713, -965, -875, -812, -731, -677, -794, -481]"
            ]
          },
          "metadata": {},
          "execution_count": 8
        }
      ]
    },
    {
      "cell_type": "code",
      "source": [
        "episodes = [i for i in range(1, 11)]\n",
        "plt.plot(episodes, rewards_table)"
      ],
      "metadata": {
        "colab": {
          "base_uri": "https://localhost:8080/",
          "height": 447
        },
        "id": "WQwr3ijR7Bao",
        "outputId": "60679806-8640-46a9-fae7-734b45a74a6b"
      },
      "execution_count": 9,
      "outputs": [
        {
          "output_type": "execute_result",
          "data": {
            "text/plain": [
              "[<matplotlib.lines.Line2D at 0x7d367c922ef0>]"
            ]
          },
          "metadata": {},
          "execution_count": 9
        },
        {
          "output_type": "display_data",
          "data": {
            "text/plain": [
              "<Figure size 640x480 with 1 Axes>"
            ],
            "image/png": "[encoded data removed]"
          },
          "metadata": {}
        }
      ]
    },
    {
      "cell_type": "markdown",
      "source": [
        "Accrording to the documentations pages this is what the numbers are translated to\n",
        "\n",
        "[Link](https://www.gymlibrary.dev/environments/toy_text/taxi/)\n",
        "\n",
        "**Actions**\n",
        "\n",
        "There are 6 discrete deterministic actions:\n",
        "\n",
        "- 0: move south\n",
        "\n",
        "- 1: move north\n",
        "\n",
        "- 2: move east\n",
        "\n",
        "- 3: move west\n",
        "\n",
        "- 4: pickup passenger\n",
        "\n",
        "- 5: drop off passenger\n",
        "\n",
        "**Rewards**\n",
        "- -1 per step unless other reward is triggered.\n",
        "\n",
        "- +20 delivering passenger.\n",
        "\n",
        "- -10 executing “pickup” and “drop-off” actions illegally."
      ],
      "metadata": {
        "id": "bKhJiv_W3MYe"
      }
    },
    {
      "cell_type": "markdown",
      "source": [
        "# Step 2:Implementing Q-Learning to Carry Items"
      ],
      "metadata": {
        "id": "wVhM8S-7D6Pg"
      }
    },
    {
      "cell_type": "code",
      "source": [
        "import numpy as np\n",
        "from tqdm import tqdm"
      ],
      "metadata": {
        "id": "omGgu7lJHXgE"
      },
      "execution_count": 10,
      "outputs": []
    },
    {
      "cell_type": "code",
      "source": [
        "# Initialise Varialbes\n",
        "disount_factor = 1\n",
        "learning_rate = 1e-2\n",
        "init_epsilon = 0.90\n",
        "n_episodes = 500000\n",
        "rewards = []"
      ],
      "metadata": {
        "id": "qHZiP_aQGXfH"
      },
      "execution_count": 11,
      "outputs": []
    },
    {
      "cell_type": "code",
      "source": [
        "# Take the size of the Action and State space\n",
        "nS, nA = env.observation_space.n, env.action_space.n\n",
        "\n",
        "# Create the Q table\n",
        "Q = np.zeros((nS,nA), dtype=np.float64)"
      ],
      "metadata": {
        "id": "knRRqFNcG7bm"
      },
      "execution_count": 45,
      "outputs": []
    },
    {
      "cell_type": "code",
      "source": [
        "def epsilon_greedy(state, Q, epsilon):\n",
        "    '''\n",
        "    This is the action selection function. It will select epsilon times the action that yields the max result\n",
        "    and 1-epsilon times it will take a random action from the action space\n",
        "    '''\n",
        "    if np.random.random() > epsilon:\n",
        "        action = env.action_space.sample()\n",
        "    else:\n",
        "        action = np.argmax(Q[state])\n",
        "    return action\n"
      ],
      "metadata": {
        "id": "be0MY3j_HHAT"
      },
      "execution_count": 46,
      "outputs": []
    },
    {
      "cell_type": "code",
      "source": [
        "for episode in tqdm(range(n_episodes)):\n",
        "    state = env.reset()\n",
        "    done = False\n",
        "    total_reward = 0\n",
        "    while not done:\n",
        "        action = epsilon_greedy(state, Q, init_epsilon)\n",
        "        next_state, reward, done, info = env.step(action)\n",
        "        target = reward + disount_factor*Q[next_state].max() * int(not done)\n",
        "        error = target - Q[state][action]\n",
        "        Q[state][action] += learning_rate*error\n",
        "        state = next_state\n",
        "        total_reward += reward\n",
        "    if episode % 100000 == 0:\n",
        "        print(f\"[EPISODE: {episode}] Total reward: {total_reward}\")\n",
        "    rewards.append(total_reward)\n",
        "\n",
        "print(f\"[EPISODE: {episode}] Total reward: {total_reward}\")"
      ],
      "metadata": {
        "colab": {
          "base_uri": "https://localhost:8080/"
        },
        "id": "w25c4QT4HcUJ",
        "outputId": "fc75767a-1374-4d66-d600-c402b744fdcd"
      },
      "execution_count": 15,
      "outputs": [
        {
          "output_type": "stream",
          "name": "stderr",
          "text": [
            "  0%|          | 32/500000 [00:00<52:48, 157.79it/s]"
          ]
        },
        {
          "output_type": "stream",
          "name": "stdout",
          "text": [
            "[EPISODE: 0] Total reward: -542\n"
          ]
        },
        {
          "output_type": "stream",
          "name": "stderr",
          "text": [
            " 20%|██        | 100318/500000 [01:20<08:06, 820.93it/s]"
          ]
        },
        {
          "output_type": "stream",
          "name": "stdout",
          "text": [
            "[EPISODE: 100000] Total reward: -1\n"
          ]
        },
        {
          "output_type": "stream",
          "name": "stderr",
          "text": [
            " 40%|████      | 200184/500000 [02:19<05:35, 892.85it/s]"
          ]
        },
        {
          "output_type": "stream",
          "name": "stdout",
          "text": [
            "[EPISODE: 200000] Total reward: -18\n"
          ]
        },
        {
          "output_type": "stream",
          "name": "stderr",
          "text": [
            " 60%|██████    | 300299/500000 [03:18<03:59, 834.01it/s]"
          ]
        },
        {
          "output_type": "stream",
          "name": "stdout",
          "text": [
            "[EPISODE: 300000] Total reward: 9\n"
          ]
        },
        {
          "output_type": "stream",
          "name": "stderr",
          "text": [
            " 80%|████████  | 400333/500000 [04:16<02:07, 780.76it/s]"
          ]
        },
        {
          "output_type": "stream",
          "name": "stdout",
          "text": [
            "[EPISODE: 400000] Total reward: 6\n"
          ]
        },
        {
          "output_type": "stream",
          "name": "stderr",
          "text": [
            "100%|██████████| 500000/500000 [05:15<00:00, 1587.08it/s]"
          ]
        },
        {
          "output_type": "stream",
          "name": "stdout",
          "text": [
            "[EPISODE: 499999] Total reward: -1\n"
          ]
        },
        {
          "output_type": "stream",
          "name": "stderr",
          "text": [
            "\n"
          ]
        }
      ]
    },
    {
      "cell_type": "code",
      "source": [
        "episodes = [e for e in range(n_episodes)]\n",
        "\n",
        "plt.plot(episodes, rewards)"
      ],
      "metadata": {
        "colab": {
          "base_uri": "https://localhost:8080/",
          "height": 502
        },
        "id": "V5FWBl4PKXGp",
        "outputId": "2409ba33-7a01-4818-b817-3dec19ccceb4"
      },
      "execution_count": 51,
      "outputs": [
        {
          "output_type": "stream",
          "name": "stderr",
          "text": [
            "/usr/local/lib/python3.10/dist-packages/ipykernel/ipkernel.py:283: DeprecationWarning: `should_run_async` will not call `transform_cell` automatically in the future. Please pass the result to `transformed_cell` argument and any exception that happen during thetransform in `preprocessing_exc_tuple` in IPython 7.17 and above.\n",
            "  and should_run_async(code)\n"
          ]
        },
        {
          "output_type": "execute_result",
          "data": {
            "text/plain": [
              "[<matplotlib.lines.Line2D at 0x7d33217a9810>]"
            ]
          },
          "metadata": {},
          "execution_count": 51
        },
        {
          "output_type": "display_data",
          "data": {
            "text/plain": [
              "<Figure size 640x480 with 1 Axes>"
            ],
            "image/png": "[encoded data removed]"
          },
          "metadata": {}
        }
      ]
    }
  ]
}